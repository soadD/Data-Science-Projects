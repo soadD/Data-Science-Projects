{
  "nbformat": 4,
  "nbformat_minor": 0,
  "metadata": {
    "colab": {
      "provenance": [],
      "authorship_tag": "ABX9TyMyrSlJfGpHDrUHJ791kNZi",
      "include_colab_link": true
    },
    "kernelspec": {
      "name": "python3",
      "display_name": "Python 3"
    },
    "language_info": {
      "name": "python"
    }
  },
  "cells": [
    {
      "cell_type": "markdown",
      "metadata": {
        "id": "view-in-github",
        "colab_type": "text"
      },
      "source": [
        "<a href=\"https://colab.research.google.com/github/soadD/Data-Science-Projects/blob/master/Box_and_one_dinasty_ED.ipynb\" target=\"_parent\"><img src=\"https://colab.research.google.com/assets/colab-badge.svg\" alt=\"Open In Colab\"/></a>"
      ]
    },
    {
      "cell_type": "markdown",
      "source": [
        "## Projeto com uma liga de Fantasy NBA : PARTE 2 - ENRIQUECIMENTO DE DATASET (ED)\n",
        "\n",
        "Este projeto tem como fim tirar as principais análises dos times que foram aos playoffs (12) de uma liga de Fantasy Basketball formato dinastia. A partir deste serão coletadas métricas relevantes de como montar um time competitivo com chances de ganhar um título.\n",
        "\n",
        "Dados:\n",
        "\n",
        "Informações sobre times, colocações e rosters:\n",
        "\n",
        "**MadHatter Fantasy Leagues**\n",
        "\n",
        " https://discord.gg/qXGxSbws\n",
        "\n",
        "Estatísticas sobre jogadores, liga e tudo relacionado a basquete:\n",
        "\n",
        "**nba_api**\n",
        "\n",
        "https://github.com/swar/nba_api/tree/master?tab=readme-ov-file\n",
        "\n",
        "**NBA Stats**\n",
        "\n",
        "https://www.nba.com/stats\n"
      ],
      "metadata": {
        "id": "_N4LYadhXqUl"
      }
    },
    {
      "cell_type": "markdown",
      "source": [
        "## Extração dos dados"
      ],
      "metadata": {
        "id": "XUuVmZ_c6LGn"
      }
    },
    {
      "cell_type": "markdown",
      "source": [
        "### Importando times e seus jogadores que foram aos playoffs na liga Box-and-one Dinasty League"
      ],
      "metadata": {
        "id": "iHzBbr_MQSEv"
      }
    },
    {
      "cell_type": "code",
      "source": [
        "#Comando de abertura para google drive\n",
        "from google.colab import drive\n",
        "drive.mount('/content/drive')"
      ],
      "metadata": {
        "colab": {
          "base_uri": "https://localhost:8080/"
        },
        "id": "L_0908oG6TtN",
        "outputId": "2dc32c67-ff99-4752-d9ed-9bc216856258"
      },
      "execution_count": null,
      "outputs": [
        {
          "output_type": "stream",
          "name": "stdout",
          "text": [
            "Drive already mounted at /content/drive; to attempt to forcibly remount, call drive.mount(\"/content/drive\", force_remount=True).\n"
          ]
        }
      ]
    },
    {
      "cell_type": "code",
      "source": [
        "# Importação de bibliotecas\n",
        "import pandas as pd"
      ],
      "metadata": {
        "id": "zbX_n85d76Ti"
      },
      "execution_count": null,
      "outputs": []
    },
    {
      "cell_type": "code",
      "execution_count": null,
      "metadata": {
        "id": "1q_4tRVsXbJE"
      },
      "outputs": [],
      "source": [
        "# Extração do csv da liga Box-and-one Dinasty\n",
        "box = pd.read_csv('/content/drive/MyDrive/NBA/ETL/box_and_one_dinasty.csv')"
      ]
    },
    {
      "cell_type": "markdown",
      "source": [
        "### Importando tabela com todos os jogadores da NBA temporada 23-24"
      ],
      "metadata": {
        "id": "4_0y7POkQcav"
      }
    },
    {
      "cell_type": "code",
      "source": [
        "#Importando bibliotecas\n",
        "import requests"
      ],
      "metadata": {
        "id": "QrHCbCOkQle-"
      },
      "execution_count": null,
      "outputs": []
    },
    {
      "cell_type": "code",
      "source": [
        "#URL com estatísticas dos jogadores da NBA para a temporada regular de 23-24\n",
        "url = 'https://stats.nba.com/stats/leagueLeaders?LeagueID=00&PerMode=Totals&Scope=S&Season=2023-24&SeasonType=Regular%20Season&StatCategory=PTS'"
      ],
      "metadata": {
        "id": "XhcRENO_QrKq"
      },
      "execution_count": null,
      "outputs": []
    },
    {
      "cell_type": "code",
      "source": [
        "#Importação dos arquivos dessa url para uma variável no ambiente virtual\n",
        "r = requests.get(url=url).json()"
      ],
      "metadata": {
        "id": "pKQnZE0iQssh"
      },
      "execution_count": null,
      "outputs": []
    },
    {
      "cell_type": "code",
      "source": [
        "#Como no JSON a descrição das estatísticas de cada jogador está armazenado em headers, vamos chamá-la como topo de tabela\n",
        "table_headers = r['resultSet']['headers']"
      ],
      "metadata": {
        "id": "DVsXzHXrQt_m"
      },
      "execution_count": null,
      "outputs": []
    },
    {
      "cell_type": "code",
      "source": [
        "#Criação de dataframe com valores do json e nomeando as colunas com table_headers\n",
        "players = pd.DataFrame(r['resultSet']['rowSet'], columns=table_headers)"
      ],
      "metadata": {
        "id": "fWs-ckCtQvyr"
      },
      "execution_count": null,
      "outputs": []
    },
    {
      "cell_type": "markdown",
      "source": [
        "## Transformação"
      ],
      "metadata": {
        "id": "7NLtR0jhIHIJ"
      }
    },
    {
      "cell_type": "markdown",
      "source": [
        "### Tipos de dados"
      ],
      "metadata": {
        "id": "w_5efAsjI-qz"
      }
    },
    {
      "cell_type": "code",
      "source": [
        "# Verificação dos tipos de dados\n",
        "box.dtypes"
      ],
      "metadata": {
        "colab": {
          "base_uri": "https://localhost:8080/"
        },
        "id": "8I6lRnjnIUiq",
        "outputId": "a3244d31-529a-4499-9a86-ab13f0d6d22d"
      },
      "execution_count": null,
      "outputs": [
        {
          "output_type": "execute_result",
          "data": {
            "text/plain": [
              "PLAYER_ID      int64\n",
              "RANK           int64\n",
              "PLAYER        object\n",
              "TEAM_ID        int64\n",
              "TEAM          object\n",
              "GP             int64\n",
              "MIN            int64\n",
              "FGM            int64\n",
              "FGA            int64\n",
              "FG_PCT       float64\n",
              "FG3M           int64\n",
              "FG3A           int64\n",
              "FG3_PCT      float64\n",
              "FTM            int64\n",
              "FTA            int64\n",
              "FT_PCT       float64\n",
              "OREB           int64\n",
              "DREB           int64\n",
              "REB            int64\n",
              "AST            int64\n",
              "STL            int64\n",
              "BLK            int64\n",
              "TOV            int64\n",
              "PF             int64\n",
              "PTS            int64\n",
              "EFF            int64\n",
              "AST_TOV      float64\n",
              "STL_TOV      float64\n",
              "team          object\n",
              "dtype: object"
            ]
          },
          "metadata": {},
          "execution_count": 186
        }
      ]
    },
    {
      "cell_type": "code",
      "source": [
        "# Transformar PLAYER_ID e TEAM_ID em object, renomear team para OWNER\n",
        "# Convertendo o tipo de dados numéricos de float para int\n",
        "box['PLAYER_ID'] = box['PLAYER_ID'].astype(str)\n",
        "box['TEAM_ID'] = box['TEAM_ID'].astype(str)\n",
        "box.rename(columns={'team': 'OWNER'}, inplace=True)"
      ],
      "metadata": {
        "id": "PdXFzGioJKP2"
      },
      "execution_count": null,
      "outputs": []
    },
    {
      "cell_type": "markdown",
      "source": [
        "### Verificação de valores nulos\n"
      ],
      "metadata": {
        "id": "3LFMySQCKWmn"
      }
    },
    {
      "cell_type": "code",
      "source": [
        "# Verificando valores nulos\n",
        "box.isnull().sum()"
      ],
      "metadata": {
        "colab": {
          "base_uri": "https://localhost:8080/"
        },
        "id": "u_iqKpdLKlZe",
        "outputId": "fdad8515-6ba0-4a38-88ab-e73169a61b22"
      },
      "execution_count": null,
      "outputs": [
        {
          "output_type": "execute_result",
          "data": {
            "text/plain": [
              "PLAYER_ID    0\n",
              "RANK         0\n",
              "PLAYER       0\n",
              "TEAM_ID      0\n",
              "TEAM         0\n",
              "GP           0\n",
              "MIN          0\n",
              "FGM          0\n",
              "FGA          0\n",
              "FG_PCT       0\n",
              "FG3M         0\n",
              "FG3A         0\n",
              "FG3_PCT      0\n",
              "FTM          0\n",
              "FTA          0\n",
              "FT_PCT       0\n",
              "OREB         0\n",
              "DREB         0\n",
              "REB          0\n",
              "AST          0\n",
              "STL          0\n",
              "BLK          0\n",
              "TOV          0\n",
              "PF           0\n",
              "PTS          0\n",
              "EFF          0\n",
              "AST_TOV      0\n",
              "STL_TOV      0\n",
              "OWNER        0\n",
              "dtype: int64"
            ]
          },
          "metadata": {},
          "execution_count": 188
        }
      ]
    },
    {
      "cell_type": "markdown",
      "source": [
        "## Enriquecimento de Dataset BOX AND ONE\n"
      ],
      "metadata": {
        "id": "LRchGNxBkYX4"
      }
    },
    {
      "cell_type": "markdown",
      "source": [
        "## Enriquecimento de Dataset PLAYERS\n"
      ],
      "metadata": {
        "id": "XrBDTRhBJ8BB"
      }
    },
    {
      "cell_type": "markdown",
      "source": [
        "### Adicionando Z-Scores do Basketball Monster (BBM)"
      ],
      "metadata": {
        "id": "faC4DDKglHD2"
      }
    },
    {
      "cell_type": "code",
      "source": [
        "#Importação de Z-Scores\n",
        "zscores = pd.read_csv('/content/drive/MyDrive/NBA/Zscores/zscores.csv')"
      ],
      "metadata": {
        "id": "iM6AiSWBdm4Z"
      },
      "execution_count": null,
      "outputs": []
    },
    {
      "cell_type": "code",
      "source": [
        "#Transformar zscores em dataframe type\n",
        "zscores = pd.DataFrame(zscores)"
      ],
      "metadata": {
        "id": "mzljdUQVf0N4"
      },
      "execution_count": null,
      "outputs": []
    },
    {
      "cell_type": "code",
      "source": [
        "#Visualização do dataframe\n",
        "zscores.head(1)"
      ],
      "metadata": {
        "colab": {
          "base_uri": "https://localhost:8080/",
          "height": 147
        },
        "id": "XDdkMpcdgc8i",
        "outputId": "0739d5e3-9e7c-4512-bf29-d805898db7bc"
      },
      "execution_count": null,
      "outputs": [
        {
          "output_type": "execute_result",
          "data": {
            "text/plain": [
              "   Round  Rank        Value         Name Team Pos  Inj   g          m/g  \\\n",
              "0      1     1  1,060554395  Joel Embiid  PHI   C  NaN  39  33,57393162   \n",
              "\n",
              "           p/g  ...         2a/g           pV             3V           rV  \\\n",
              "0  34,69230769  ...  18,25641026  2,937799812  -0,3285533786  2,022542343   \n",
              "\n",
              "             aV            sV           bV         fg%V         ft%V  \\\n",
              "0  0,7595001018  0,5958714268  1,776745735  1,248958118  3,044786661   \n",
              "\n",
              "            toV  \n",
              "0  -2,512661268  \n",
              "\n",
              "[1 rows x 33 columns]"
            ],
            "text/html": [
              "\n",
              "  <div id=\"df-f6dd0c02-b68f-4485-b28c-bb898adedd05\" class=\"colab-df-container\">\n",
              "    <div>\n",
              "<style scoped>\n",
              "    .dataframe tbody tr th:only-of-type {\n",
              "        vertical-align: middle;\n",
              "    }\n",
              "\n",
              "    .dataframe tbody tr th {\n",
              "        vertical-align: top;\n",
              "    }\n",
              "\n",
              "    .dataframe thead th {\n",
              "        text-align: right;\n",
              "    }\n",
              "</style>\n",
              "<table border=\"1\" class=\"dataframe\">\n",
              "  <thead>\n",
              "    <tr style=\"text-align: right;\">\n",
              "      <th></th>\n",
              "      <th>Round</th>\n",
              "      <th>Rank</th>\n",
              "      <th>Value</th>\n",
              "      <th>Name</th>\n",
              "      <th>Team</th>\n",
              "      <th>Pos</th>\n",
              "      <th>Inj</th>\n",
              "      <th>g</th>\n",
              "      <th>m/g</th>\n",
              "      <th>p/g</th>\n",
              "      <th>...</th>\n",
              "      <th>2a/g</th>\n",
              "      <th>pV</th>\n",
              "      <th>3V</th>\n",
              "      <th>rV</th>\n",
              "      <th>aV</th>\n",
              "      <th>sV</th>\n",
              "      <th>bV</th>\n",
              "      <th>fg%V</th>\n",
              "      <th>ft%V</th>\n",
              "      <th>toV</th>\n",
              "    </tr>\n",
              "  </thead>\n",
              "  <tbody>\n",
              "    <tr>\n",
              "      <th>0</th>\n",
              "      <td>1</td>\n",
              "      <td>1</td>\n",
              "      <td>1,060554395</td>\n",
              "      <td>Joel Embiid</td>\n",
              "      <td>PHI</td>\n",
              "      <td>C</td>\n",
              "      <td>NaN</td>\n",
              "      <td>39</td>\n",
              "      <td>33,57393162</td>\n",
              "      <td>34,69230769</td>\n",
              "      <td>...</td>\n",
              "      <td>18,25641026</td>\n",
              "      <td>2,937799812</td>\n",
              "      <td>-0,3285533786</td>\n",
              "      <td>2,022542343</td>\n",
              "      <td>0,7595001018</td>\n",
              "      <td>0,5958714268</td>\n",
              "      <td>1,776745735</td>\n",
              "      <td>1,248958118</td>\n",
              "      <td>3,044786661</td>\n",
              "      <td>-2,512661268</td>\n",
              "    </tr>\n",
              "  </tbody>\n",
              "</table>\n",
              "<p>1 rows × 33 columns</p>\n",
              "</div>\n",
              "    <div class=\"colab-df-buttons\">\n",
              "\n",
              "  <div class=\"colab-df-container\">\n",
              "    <button class=\"colab-df-convert\" onclick=\"convertToInteractive('df-f6dd0c02-b68f-4485-b28c-bb898adedd05')\"\n",
              "            title=\"Convert this dataframe to an interactive table.\"\n",
              "            style=\"display:none;\">\n",
              "\n",
              "  <svg xmlns=\"http://www.w3.org/2000/svg\" height=\"24px\" viewBox=\"0 -960 960 960\">\n",
              "    <path d=\"M120-120v-720h720v720H120Zm60-500h600v-160H180v160Zm220 220h160v-160H400v160Zm0 220h160v-160H400v160ZM180-400h160v-160H180v160Zm440 0h160v-160H620v160ZM180-180h160v-160H180v160Zm440 0h160v-160H620v160Z\"/>\n",
              "  </svg>\n",
              "    </button>\n",
              "\n",
              "  <style>\n",
              "    .colab-df-container {\n",
              "      display:flex;\n",
              "      gap: 12px;\n",
              "    }\n",
              "\n",
              "    .colab-df-convert {\n",
              "      background-color: #E8F0FE;\n",
              "      border: none;\n",
              "      border-radius: 50%;\n",
              "      cursor: pointer;\n",
              "      display: none;\n",
              "      fill: #1967D2;\n",
              "      height: 32px;\n",
              "      padding: 0 0 0 0;\n",
              "      width: 32px;\n",
              "    }\n",
              "\n",
              "    .colab-df-convert:hover {\n",
              "      background-color: #E2EBFA;\n",
              "      box-shadow: 0px 1px 2px rgba(60, 64, 67, 0.3), 0px 1px 3px 1px rgba(60, 64, 67, 0.15);\n",
              "      fill: #174EA6;\n",
              "    }\n",
              "\n",
              "    .colab-df-buttons div {\n",
              "      margin-bottom: 4px;\n",
              "    }\n",
              "\n",
              "    [theme=dark] .colab-df-convert {\n",
              "      background-color: #3B4455;\n",
              "      fill: #D2E3FC;\n",
              "    }\n",
              "\n",
              "    [theme=dark] .colab-df-convert:hover {\n",
              "      background-color: #434B5C;\n",
              "      box-shadow: 0px 1px 3px 1px rgba(0, 0, 0, 0.15);\n",
              "      filter: drop-shadow(0px 1px 2px rgba(0, 0, 0, 0.3));\n",
              "      fill: #FFFFFF;\n",
              "    }\n",
              "  </style>\n",
              "\n",
              "    <script>\n",
              "      const buttonEl =\n",
              "        document.querySelector('#df-f6dd0c02-b68f-4485-b28c-bb898adedd05 button.colab-df-convert');\n",
              "      buttonEl.style.display =\n",
              "        google.colab.kernel.accessAllowed ? 'block' : 'none';\n",
              "\n",
              "      async function convertToInteractive(key) {\n",
              "        const element = document.querySelector('#df-f6dd0c02-b68f-4485-b28c-bb898adedd05');\n",
              "        const dataTable =\n",
              "          await google.colab.kernel.invokeFunction('convertToInteractive',\n",
              "                                                    [key], {});\n",
              "        if (!dataTable) return;\n",
              "\n",
              "        const docLinkHtml = 'Like what you see? Visit the ' +\n",
              "          '<a target=\"_blank\" href=https://colab.research.google.com/notebooks/data_table.ipynb>data table notebook</a>'\n",
              "          + ' to learn more about interactive tables.';\n",
              "        element.innerHTML = '';\n",
              "        dataTable['output_type'] = 'display_data';\n",
              "        await google.colab.output.renderOutput(dataTable, element);\n",
              "        const docLink = document.createElement('div');\n",
              "        docLink.innerHTML = docLinkHtml;\n",
              "        element.appendChild(docLink);\n",
              "      }\n",
              "    </script>\n",
              "  </div>\n",
              "\n",
              "\n",
              "    </div>\n",
              "  </div>\n"
            ],
            "application/vnd.google.colaboratory.intrinsic+json": {
              "type": "dataframe",
              "variable_name": "zscores"
            }
          },
          "metadata": {},
          "execution_count": 191
        }
      ]
    },
    {
      "cell_type": "code",
      "source": [
        "#Renomear \"value\" para \"zscore\"\n",
        "zscores.rename(columns={'Value': 'Zscore'}, inplace=True)\n",
        "zscores.rename(columns={'Rank': 'BBM_RANK'}, inplace=True)"
      ],
      "metadata": {
        "id": "SpV7h7Z4hdNN"
      },
      "execution_count": null,
      "outputs": []
    },
    {
      "cell_type": "code",
      "source": [
        "# Selecionar apenas a coluna 'zscore' do dataframe zscores para dar merge com box_pg\n",
        "zscores_subset = zscores[['Name', 'Zscore', 'BBM_RANK']]"
      ],
      "metadata": {
        "id": "gSZQnA9Gh8D4"
      },
      "execution_count": null,
      "outputs": []
    },
    {
      "cell_type": "code",
      "source": [
        "#Verificando tipos em zscores_subset\n",
        "zscores_subset.dtypes"
      ],
      "metadata": {
        "colab": {
          "base_uri": "https://localhost:8080/"
        },
        "id": "PKcZF84_mbZ7",
        "outputId": "597cdddc-04dc-42aa-b503-156a04243ce8"
      },
      "execution_count": null,
      "outputs": [
        {
          "output_type": "execute_result",
          "data": {
            "text/plain": [
              "Name        object\n",
              "Zscore      object\n",
              "BBM_RANK     int64\n",
              "dtype: object"
            ]
          },
          "metadata": {},
          "execution_count": 194
        }
      ]
    },
    {
      "cell_type": "code",
      "source": [
        "#Transformando Zscore para float convertendo virgulas para pontos\n",
        "zscores_subset['Zscore'] = zscores_subset['Zscore'].str.replace(',', '.').astype(float)"
      ],
      "metadata": {
        "colab": {
          "base_uri": "https://localhost:8080/"
        },
        "id": "tC4vi5ZgmisI",
        "outputId": "8e4cece2-acb7-453e-b1f8-036c38c4f0c7"
      },
      "execution_count": null,
      "outputs": [
        {
          "output_type": "stream",
          "name": "stderr",
          "text": [
            "<ipython-input-195-a73eebfdb44e>:2: SettingWithCopyWarning: \n",
            "A value is trying to be set on a copy of a slice from a DataFrame.\n",
            "Try using .loc[row_indexer,col_indexer] = value instead\n",
            "\n",
            "See the caveats in the documentation: https://pandas.pydata.org/pandas-docs/stable/user_guide/indexing.html#returning-a-view-versus-a-copy\n",
            "  zscores_subset['Zscore'] = zscores_subset['Zscore'].str.replace(',', '.').astype(float)\n"
          ]
        }
      ]
    },
    {
      "cell_type": "code",
      "source": [
        "#zscore com apenas 2 casas decimais\n",
        "zscores_subset['Zscore'] = zscores_subset['Zscore'].round(2)"
      ],
      "metadata": {
        "colab": {
          "base_uri": "https://localhost:8080/"
        },
        "id": "bY_G_zn-hrYB",
        "outputId": "73005dea-fb24-4f25-9dca-c3dc2e58b296"
      },
      "execution_count": null,
      "outputs": [
        {
          "output_type": "stream",
          "name": "stderr",
          "text": [
            "<ipython-input-196-68caaeee304e>:2: SettingWithCopyWarning: \n",
            "A value is trying to be set on a copy of a slice from a DataFrame.\n",
            "Try using .loc[row_indexer,col_indexer] = value instead\n",
            "\n",
            "See the caveats in the documentation: https://pandas.pydata.org/pandas-docs/stable/user_guide/indexing.html#returning-a-view-versus-a-copy\n",
            "  zscores_subset['Zscore'] = zscores_subset['Zscore'].round(2)\n"
          ]
        }
      ]
    },
    {
      "cell_type": "code",
      "source": [
        "#Assegurar que tanto zscores_subset quanto box_pg são DataFrames do pandas\n",
        "zscores_subset = pd.DataFrame(zscores_subset)"
      ],
      "metadata": {
        "id": "eCf3Rv7LlNlP"
      },
      "execution_count": null,
      "outputs": []
    },
    {
      "cell_type": "code",
      "source": [
        "#Deixando chave principal e chave estrangeira com mesmo nome\n",
        "zscores_subset.rename(columns={'Name': 'PLAYER'}, inplace=True)"
      ],
      "metadata": {
        "id": "YOy_f59elfP_"
      },
      "execution_count": null,
      "outputs": []
    },
    {
      "cell_type": "code",
      "source": [
        "# Realizar o merge usando a coluna \"PLAYER\" como chave\n",
        "box_df = pd.merge(box, zscores_subset, on='PLAYER', how='left')"
      ],
      "metadata": {
        "id": "4zO6suChi4tB"
      },
      "execution_count": null,
      "outputs": []
    },
    {
      "cell_type": "code",
      "source": [
        "box_df"
      ],
      "metadata": {
        "colab": {
          "base_uri": "https://localhost:8080/",
          "height": 423
        },
        "id": "3yhhLolPNYwD",
        "outputId": "d4a794dd-0db7-4c37-fbdb-4d219151f5fb"
      },
      "execution_count": null,
      "outputs": [
        {
          "output_type": "execute_result",
          "data": {
            "text/plain": [
              "    PLAYER_ID  RANK             PLAYER     TEAM_ID TEAM  GP   MIN  FGM  FGA  \\\n",
              "0     1630163   210        LaMelo Ball  1610612766  CHA  22   711  183  423   \n",
              "1     1630217    97       Desmond Bane  1610612763  MEM  42  1443  360  776   \n",
              "2     1626179    64       Terry Rozier  1610612748  MIA  61  2040  442  998   \n",
              "3     1630530   131    Trey Murphy III  1610612740  NOP  57  1690  275  621   \n",
              "4     1629023   106    P.J. Washington  1610612742  DAL  73  2221  354  811   \n",
              "..        ...   ...                ...         ...  ...  ..   ...  ...  ...   \n",
              "209   1628998   337        Cody Martin  1610612766  CHA  28   753   82  215   \n",
              "210   1629007   397      Jontay Porter  1610612761  TOR  26   360   40  104   \n",
              "211   1630568   406         Luka Garza  1610612750  MIN  25   122   36   75   \n",
              "212   1630551   414  Justin Champagnie  1610612764  WAS  15   235   32   78   \n",
              "213   1630610   458      DeJon Jarreau  1610612763  MEM   9   150   17   50   \n",
              "\n",
              "     FG_PCT  ...  BLK  TOV   PF   PTS   EFF  AST_TOV  STL_TOV     OWNER  \\\n",
              "0     0.433  ...    4   83   79   526   522     2.12     0.48      Buzz   \n",
              "1     0.464  ...   22  112  120   997   928     2.05     0.38      Buzz   \n",
              "2     0.443  ...   21  106  101  1205  1190     3.23     0.59      Buzz   \n",
              "3     0.443  ...   28   34   70   842   917     3.65     1.50      Buzz   \n",
              "4     0.436  ...   59   96  169   939  1023     1.47     0.75      Buzz   \n",
              "..      ...  ...  ...  ...  ...   ...   ...      ...      ...       ...   \n",
              "209   0.381  ...   18   44   48   211   284     2.36     0.73  31savage   \n",
              "210   0.385  ...   20   21   35   115   209     2.86     0.95  31savage   \n",
              "211   0.480  ...    1    6   24    99    87     0.67     0.67  31savage   \n",
              "212   0.410  ...    9   10   14    89   121     1.90     1.00  31savage   \n",
              "213   0.340  ...    2    9   14    43    73     2.89     0.67  31savage   \n",
              "\n",
              "     Zscore  BBM_RANK  \n",
              "0      0.29      23.0  \n",
              "1      0.19      33.0  \n",
              "2      0.05      54.0  \n",
              "3       NaN       NaN  \n",
              "4       NaN       NaN  \n",
              "..      ...       ...  \n",
              "209     NaN       NaN  \n",
              "210     NaN       NaN  \n",
              "211     NaN       NaN  \n",
              "212     NaN       NaN  \n",
              "213     NaN       NaN  \n",
              "\n",
              "[214 rows x 31 columns]"
            ],
            "text/html": [
              "\n",
              "  <div id=\"df-bac4e635-1a4d-46a4-8234-1b2fa3d179f8\" class=\"colab-df-container\">\n",
              "    <div>\n",
              "<style scoped>\n",
              "    .dataframe tbody tr th:only-of-type {\n",
              "        vertical-align: middle;\n",
              "    }\n",
              "\n",
              "    .dataframe tbody tr th {\n",
              "        vertical-align: top;\n",
              "    }\n",
              "\n",
              "    .dataframe thead th {\n",
              "        text-align: right;\n",
              "    }\n",
              "</style>\n",
              "<table border=\"1\" class=\"dataframe\">\n",
              "  <thead>\n",
              "    <tr style=\"text-align: right;\">\n",
              "      <th></th>\n",
              "      <th>PLAYER_ID</th>\n",
              "      <th>RANK</th>\n",
              "      <th>PLAYER</th>\n",
              "      <th>TEAM_ID</th>\n",
              "      <th>TEAM</th>\n",
              "      <th>GP</th>\n",
              "      <th>MIN</th>\n",
              "      <th>FGM</th>\n",
              "      <th>FGA</th>\n",
              "      <th>FG_PCT</th>\n",
              "      <th>...</th>\n",
              "      <th>BLK</th>\n",
              "      <th>TOV</th>\n",
              "      <th>PF</th>\n",
              "      <th>PTS</th>\n",
              "      <th>EFF</th>\n",
              "      <th>AST_TOV</th>\n",
              "      <th>STL_TOV</th>\n",
              "      <th>OWNER</th>\n",
              "      <th>Zscore</th>\n",
              "      <th>BBM_RANK</th>\n",
              "    </tr>\n",
              "  </thead>\n",
              "  <tbody>\n",
              "    <tr>\n",
              "      <th>0</th>\n",
              "      <td>1630163</td>\n",
              "      <td>210</td>\n",
              "      <td>LaMelo Ball</td>\n",
              "      <td>1610612766</td>\n",
              "      <td>CHA</td>\n",
              "      <td>22</td>\n",
              "      <td>711</td>\n",
              "      <td>183</td>\n",
              "      <td>423</td>\n",
              "      <td>0.433</td>\n",
              "      <td>...</td>\n",
              "      <td>4</td>\n",
              "      <td>83</td>\n",
              "      <td>79</td>\n",
              "      <td>526</td>\n",
              "      <td>522</td>\n",
              "      <td>2.12</td>\n",
              "      <td>0.48</td>\n",
              "      <td>Buzz</td>\n",
              "      <td>0.29</td>\n",
              "      <td>23.0</td>\n",
              "    </tr>\n",
              "    <tr>\n",
              "      <th>1</th>\n",
              "      <td>1630217</td>\n",
              "      <td>97</td>\n",
              "      <td>Desmond Bane</td>\n",
              "      <td>1610612763</td>\n",
              "      <td>MEM</td>\n",
              "      <td>42</td>\n",
              "      <td>1443</td>\n",
              "      <td>360</td>\n",
              "      <td>776</td>\n",
              "      <td>0.464</td>\n",
              "      <td>...</td>\n",
              "      <td>22</td>\n",
              "      <td>112</td>\n",
              "      <td>120</td>\n",
              "      <td>997</td>\n",
              "      <td>928</td>\n",
              "      <td>2.05</td>\n",
              "      <td>0.38</td>\n",
              "      <td>Buzz</td>\n",
              "      <td>0.19</td>\n",
              "      <td>33.0</td>\n",
              "    </tr>\n",
              "    <tr>\n",
              "      <th>2</th>\n",
              "      <td>1626179</td>\n",
              "      <td>64</td>\n",
              "      <td>Terry Rozier</td>\n",
              "      <td>1610612748</td>\n",
              "      <td>MIA</td>\n",
              "      <td>61</td>\n",
              "      <td>2040</td>\n",
              "      <td>442</td>\n",
              "      <td>998</td>\n",
              "      <td>0.443</td>\n",
              "      <td>...</td>\n",
              "      <td>21</td>\n",
              "      <td>106</td>\n",
              "      <td>101</td>\n",
              "      <td>1205</td>\n",
              "      <td>1190</td>\n",
              "      <td>3.23</td>\n",
              "      <td>0.59</td>\n",
              "      <td>Buzz</td>\n",
              "      <td>0.05</td>\n",
              "      <td>54.0</td>\n",
              "    </tr>\n",
              "    <tr>\n",
              "      <th>3</th>\n",
              "      <td>1630530</td>\n",
              "      <td>131</td>\n",
              "      <td>Trey Murphy III</td>\n",
              "      <td>1610612740</td>\n",
              "      <td>NOP</td>\n",
              "      <td>57</td>\n",
              "      <td>1690</td>\n",
              "      <td>275</td>\n",
              "      <td>621</td>\n",
              "      <td>0.443</td>\n",
              "      <td>...</td>\n",
              "      <td>28</td>\n",
              "      <td>34</td>\n",
              "      <td>70</td>\n",
              "      <td>842</td>\n",
              "      <td>917</td>\n",
              "      <td>3.65</td>\n",
              "      <td>1.50</td>\n",
              "      <td>Buzz</td>\n",
              "      <td>NaN</td>\n",
              "      <td>NaN</td>\n",
              "    </tr>\n",
              "    <tr>\n",
              "      <th>4</th>\n",
              "      <td>1629023</td>\n",
              "      <td>106</td>\n",
              "      <td>P.J. Washington</td>\n",
              "      <td>1610612742</td>\n",
              "      <td>DAL</td>\n",
              "      <td>73</td>\n",
              "      <td>2221</td>\n",
              "      <td>354</td>\n",
              "      <td>811</td>\n",
              "      <td>0.436</td>\n",
              "      <td>...</td>\n",
              "      <td>59</td>\n",
              "      <td>96</td>\n",
              "      <td>169</td>\n",
              "      <td>939</td>\n",
              "      <td>1023</td>\n",
              "      <td>1.47</td>\n",
              "      <td>0.75</td>\n",
              "      <td>Buzz</td>\n",
              "      <td>NaN</td>\n",
              "      <td>NaN</td>\n",
              "    </tr>\n",
              "    <tr>\n",
              "      <th>...</th>\n",
              "      <td>...</td>\n",
              "      <td>...</td>\n",
              "      <td>...</td>\n",
              "      <td>...</td>\n",
              "      <td>...</td>\n",
              "      <td>...</td>\n",
              "      <td>...</td>\n",
              "      <td>...</td>\n",
              "      <td>...</td>\n",
              "      <td>...</td>\n",
              "      <td>...</td>\n",
              "      <td>...</td>\n",
              "      <td>...</td>\n",
              "      <td>...</td>\n",
              "      <td>...</td>\n",
              "      <td>...</td>\n",
              "      <td>...</td>\n",
              "      <td>...</td>\n",
              "      <td>...</td>\n",
              "      <td>...</td>\n",
              "      <td>...</td>\n",
              "    </tr>\n",
              "    <tr>\n",
              "      <th>209</th>\n",
              "      <td>1628998</td>\n",
              "      <td>337</td>\n",
              "      <td>Cody Martin</td>\n",
              "      <td>1610612766</td>\n",
              "      <td>CHA</td>\n",
              "      <td>28</td>\n",
              "      <td>753</td>\n",
              "      <td>82</td>\n",
              "      <td>215</td>\n",
              "      <td>0.381</td>\n",
              "      <td>...</td>\n",
              "      <td>18</td>\n",
              "      <td>44</td>\n",
              "      <td>48</td>\n",
              "      <td>211</td>\n",
              "      <td>284</td>\n",
              "      <td>2.36</td>\n",
              "      <td>0.73</td>\n",
              "      <td>31savage</td>\n",
              "      <td>NaN</td>\n",
              "      <td>NaN</td>\n",
              "    </tr>\n",
              "    <tr>\n",
              "      <th>210</th>\n",
              "      <td>1629007</td>\n",
              "      <td>397</td>\n",
              "      <td>Jontay Porter</td>\n",
              "      <td>1610612761</td>\n",
              "      <td>TOR</td>\n",
              "      <td>26</td>\n",
              "      <td>360</td>\n",
              "      <td>40</td>\n",
              "      <td>104</td>\n",
              "      <td>0.385</td>\n",
              "      <td>...</td>\n",
              "      <td>20</td>\n",
              "      <td>21</td>\n",
              "      <td>35</td>\n",
              "      <td>115</td>\n",
              "      <td>209</td>\n",
              "      <td>2.86</td>\n",
              "      <td>0.95</td>\n",
              "      <td>31savage</td>\n",
              "      <td>NaN</td>\n",
              "      <td>NaN</td>\n",
              "    </tr>\n",
              "    <tr>\n",
              "      <th>211</th>\n",
              "      <td>1630568</td>\n",
              "      <td>406</td>\n",
              "      <td>Luka Garza</td>\n",
              "      <td>1610612750</td>\n",
              "      <td>MIN</td>\n",
              "      <td>25</td>\n",
              "      <td>122</td>\n",
              "      <td>36</td>\n",
              "      <td>75</td>\n",
              "      <td>0.480</td>\n",
              "      <td>...</td>\n",
              "      <td>1</td>\n",
              "      <td>6</td>\n",
              "      <td>24</td>\n",
              "      <td>99</td>\n",
              "      <td>87</td>\n",
              "      <td>0.67</td>\n",
              "      <td>0.67</td>\n",
              "      <td>31savage</td>\n",
              "      <td>NaN</td>\n",
              "      <td>NaN</td>\n",
              "    </tr>\n",
              "    <tr>\n",
              "      <th>212</th>\n",
              "      <td>1630551</td>\n",
              "      <td>414</td>\n",
              "      <td>Justin Champagnie</td>\n",
              "      <td>1610612764</td>\n",
              "      <td>WAS</td>\n",
              "      <td>15</td>\n",
              "      <td>235</td>\n",
              "      <td>32</td>\n",
              "      <td>78</td>\n",
              "      <td>0.410</td>\n",
              "      <td>...</td>\n",
              "      <td>9</td>\n",
              "      <td>10</td>\n",
              "      <td>14</td>\n",
              "      <td>89</td>\n",
              "      <td>121</td>\n",
              "      <td>1.90</td>\n",
              "      <td>1.00</td>\n",
              "      <td>31savage</td>\n",
              "      <td>NaN</td>\n",
              "      <td>NaN</td>\n",
              "    </tr>\n",
              "    <tr>\n",
              "      <th>213</th>\n",
              "      <td>1630610</td>\n",
              "      <td>458</td>\n",
              "      <td>DeJon Jarreau</td>\n",
              "      <td>1610612763</td>\n",
              "      <td>MEM</td>\n",
              "      <td>9</td>\n",
              "      <td>150</td>\n",
              "      <td>17</td>\n",
              "      <td>50</td>\n",
              "      <td>0.340</td>\n",
              "      <td>...</td>\n",
              "      <td>2</td>\n",
              "      <td>9</td>\n",
              "      <td>14</td>\n",
              "      <td>43</td>\n",
              "      <td>73</td>\n",
              "      <td>2.89</td>\n",
              "      <td>0.67</td>\n",
              "      <td>31savage</td>\n",
              "      <td>NaN</td>\n",
              "      <td>NaN</td>\n",
              "    </tr>\n",
              "  </tbody>\n",
              "</table>\n",
              "<p>214 rows × 31 columns</p>\n",
              "</div>\n",
              "    <div class=\"colab-df-buttons\">\n",
              "\n",
              "  <div class=\"colab-df-container\">\n",
              "    <button class=\"colab-df-convert\" onclick=\"convertToInteractive('df-bac4e635-1a4d-46a4-8234-1b2fa3d179f8')\"\n",
              "            title=\"Convert this dataframe to an interactive table.\"\n",
              "            style=\"display:none;\">\n",
              "\n",
              "  <svg xmlns=\"http://www.w3.org/2000/svg\" height=\"24px\" viewBox=\"0 -960 960 960\">\n",
              "    <path d=\"M120-120v-720h720v720H120Zm60-500h600v-160H180v160Zm220 220h160v-160H400v160Zm0 220h160v-160H400v160ZM180-400h160v-160H180v160Zm440 0h160v-160H620v160ZM180-180h160v-160H180v160Zm440 0h160v-160H620v160Z\"/>\n",
              "  </svg>\n",
              "    </button>\n",
              "\n",
              "  <style>\n",
              "    .colab-df-container {\n",
              "      display:flex;\n",
              "      gap: 12px;\n",
              "    }\n",
              "\n",
              "    .colab-df-convert {\n",
              "      background-color: #E8F0FE;\n",
              "      border: none;\n",
              "      border-radius: 50%;\n",
              "      cursor: pointer;\n",
              "      display: none;\n",
              "      fill: #1967D2;\n",
              "      height: 32px;\n",
              "      padding: 0 0 0 0;\n",
              "      width: 32px;\n",
              "    }\n",
              "\n",
              "    .colab-df-convert:hover {\n",
              "      background-color: #E2EBFA;\n",
              "      box-shadow: 0px 1px 2px rgba(60, 64, 67, 0.3), 0px 1px 3px 1px rgba(60, 64, 67, 0.15);\n",
              "      fill: #174EA6;\n",
              "    }\n",
              "\n",
              "    .colab-df-buttons div {\n",
              "      margin-bottom: 4px;\n",
              "    }\n",
              "\n",
              "    [theme=dark] .colab-df-convert {\n",
              "      background-color: #3B4455;\n",
              "      fill: #D2E3FC;\n",
              "    }\n",
              "\n",
              "    [theme=dark] .colab-df-convert:hover {\n",
              "      background-color: #434B5C;\n",
              "      box-shadow: 0px 1px 3px 1px rgba(0, 0, 0, 0.15);\n",
              "      filter: drop-shadow(0px 1px 2px rgba(0, 0, 0, 0.3));\n",
              "      fill: #FFFFFF;\n",
              "    }\n",
              "  </style>\n",
              "\n",
              "    <script>\n",
              "      const buttonEl =\n",
              "        document.querySelector('#df-bac4e635-1a4d-46a4-8234-1b2fa3d179f8 button.colab-df-convert');\n",
              "      buttonEl.style.display =\n",
              "        google.colab.kernel.accessAllowed ? 'block' : 'none';\n",
              "\n",
              "      async function convertToInteractive(key) {\n",
              "        const element = document.querySelector('#df-bac4e635-1a4d-46a4-8234-1b2fa3d179f8');\n",
              "        const dataTable =\n",
              "          await google.colab.kernel.invokeFunction('convertToInteractive',\n",
              "                                                    [key], {});\n",
              "        if (!dataTable) return;\n",
              "\n",
              "        const docLinkHtml = 'Like what you see? Visit the ' +\n",
              "          '<a target=\"_blank\" href=https://colab.research.google.com/notebooks/data_table.ipynb>data table notebook</a>'\n",
              "          + ' to learn more about interactive tables.';\n",
              "        element.innerHTML = '';\n",
              "        dataTable['output_type'] = 'display_data';\n",
              "        await google.colab.output.renderOutput(dataTable, element);\n",
              "        const docLink = document.createElement('div');\n",
              "        docLink.innerHTML = docLinkHtml;\n",
              "        element.appendChild(docLink);\n",
              "      }\n",
              "    </script>\n",
              "  </div>\n",
              "\n",
              "\n",
              "<div id=\"df-b9ab4c68-27bf-41b0-95bd-2beccc750702\">\n",
              "  <button class=\"colab-df-quickchart\" onclick=\"quickchart('df-b9ab4c68-27bf-41b0-95bd-2beccc750702')\"\n",
              "            title=\"Suggest charts\"\n",
              "            style=\"display:none;\">\n",
              "\n",
              "<svg xmlns=\"http://www.w3.org/2000/svg\" height=\"24px\"viewBox=\"0 0 24 24\"\n",
              "     width=\"24px\">\n",
              "    <g>\n",
              "        <path d=\"M19 3H5c-1.1 0-2 .9-2 2v14c0 1.1.9 2 2 2h14c1.1 0 2-.9 2-2V5c0-1.1-.9-2-2-2zM9 17H7v-7h2v7zm4 0h-2V7h2v10zm4 0h-2v-4h2v4z\"/>\n",
              "    </g>\n",
              "</svg>\n",
              "  </button>\n",
              "\n",
              "<style>\n",
              "  .colab-df-quickchart {\n",
              "      --bg-color: #E8F0FE;\n",
              "      --fill-color: #1967D2;\n",
              "      --hover-bg-color: #E2EBFA;\n",
              "      --hover-fill-color: #174EA6;\n",
              "      --disabled-fill-color: #AAA;\n",
              "      --disabled-bg-color: #DDD;\n",
              "  }\n",
              "\n",
              "  [theme=dark] .colab-df-quickchart {\n",
              "      --bg-color: #3B4455;\n",
              "      --fill-color: #D2E3FC;\n",
              "      --hover-bg-color: #434B5C;\n",
              "      --hover-fill-color: #FFFFFF;\n",
              "      --disabled-bg-color: #3B4455;\n",
              "      --disabled-fill-color: #666;\n",
              "  }\n",
              "\n",
              "  .colab-df-quickchart {\n",
              "    background-color: var(--bg-color);\n",
              "    border: none;\n",
              "    border-radius: 50%;\n",
              "    cursor: pointer;\n",
              "    display: none;\n",
              "    fill: var(--fill-color);\n",
              "    height: 32px;\n",
              "    padding: 0;\n",
              "    width: 32px;\n",
              "  }\n",
              "\n",
              "  .colab-df-quickchart:hover {\n",
              "    background-color: var(--hover-bg-color);\n",
              "    box-shadow: 0 1px 2px rgba(60, 64, 67, 0.3), 0 1px 3px 1px rgba(60, 64, 67, 0.15);\n",
              "    fill: var(--button-hover-fill-color);\n",
              "  }\n",
              "\n",
              "  .colab-df-quickchart-complete:disabled,\n",
              "  .colab-df-quickchart-complete:disabled:hover {\n",
              "    background-color: var(--disabled-bg-color);\n",
              "    fill: var(--disabled-fill-color);\n",
              "    box-shadow: none;\n",
              "  }\n",
              "\n",
              "  .colab-df-spinner {\n",
              "    border: 2px solid var(--fill-color);\n",
              "    border-color: transparent;\n",
              "    border-bottom-color: var(--fill-color);\n",
              "    animation:\n",
              "      spin 1s steps(1) infinite;\n",
              "  }\n",
              "\n",
              "  @keyframes spin {\n",
              "    0% {\n",
              "      border-color: transparent;\n",
              "      border-bottom-color: var(--fill-color);\n",
              "      border-left-color: var(--fill-color);\n",
              "    }\n",
              "    20% {\n",
              "      border-color: transparent;\n",
              "      border-left-color: var(--fill-color);\n",
              "      border-top-color: var(--fill-color);\n",
              "    }\n",
              "    30% {\n",
              "      border-color: transparent;\n",
              "      border-left-color: var(--fill-color);\n",
              "      border-top-color: var(--fill-color);\n",
              "      border-right-color: var(--fill-color);\n",
              "    }\n",
              "    40% {\n",
              "      border-color: transparent;\n",
              "      border-right-color: var(--fill-color);\n",
              "      border-top-color: var(--fill-color);\n",
              "    }\n",
              "    60% {\n",
              "      border-color: transparent;\n",
              "      border-right-color: var(--fill-color);\n",
              "    }\n",
              "    80% {\n",
              "      border-color: transparent;\n",
              "      border-right-color: var(--fill-color);\n",
              "      border-bottom-color: var(--fill-color);\n",
              "    }\n",
              "    90% {\n",
              "      border-color: transparent;\n",
              "      border-bottom-color: var(--fill-color);\n",
              "    }\n",
              "  }\n",
              "</style>\n",
              "\n",
              "  <script>\n",
              "    async function quickchart(key) {\n",
              "      const quickchartButtonEl =\n",
              "        document.querySelector('#' + key + ' button');\n",
              "      quickchartButtonEl.disabled = true;  // To prevent multiple clicks.\n",
              "      quickchartButtonEl.classList.add('colab-df-spinner');\n",
              "      try {\n",
              "        const charts = await google.colab.kernel.invokeFunction(\n",
              "            'suggestCharts', [key], {});\n",
              "      } catch (error) {\n",
              "        console.error('Error during call to suggestCharts:', error);\n",
              "      }\n",
              "      quickchartButtonEl.classList.remove('colab-df-spinner');\n",
              "      quickchartButtonEl.classList.add('colab-df-quickchart-complete');\n",
              "    }\n",
              "    (() => {\n",
              "      let quickchartButtonEl =\n",
              "        document.querySelector('#df-b9ab4c68-27bf-41b0-95bd-2beccc750702 button');\n",
              "      quickchartButtonEl.style.display =\n",
              "        google.colab.kernel.accessAllowed ? 'block' : 'none';\n",
              "    })();\n",
              "  </script>\n",
              "</div>\n",
              "\n",
              "  <div id=\"id_c25fea1f-8c63-48e1-8b4e-461520c2ec6c\">\n",
              "    <style>\n",
              "      .colab-df-generate {\n",
              "        background-color: #E8F0FE;\n",
              "        border: none;\n",
              "        border-radius: 50%;\n",
              "        cursor: pointer;\n",
              "        display: none;\n",
              "        fill: #1967D2;\n",
              "        height: 32px;\n",
              "        padding: 0 0 0 0;\n",
              "        width: 32px;\n",
              "      }\n",
              "\n",
              "      .colab-df-generate:hover {\n",
              "        background-color: #E2EBFA;\n",
              "        box-shadow: 0px 1px 2px rgba(60, 64, 67, 0.3), 0px 1px 3px 1px rgba(60, 64, 67, 0.15);\n",
              "        fill: #174EA6;\n",
              "      }\n",
              "\n",
              "      [theme=dark] .colab-df-generate {\n",
              "        background-color: #3B4455;\n",
              "        fill: #D2E3FC;\n",
              "      }\n",
              "\n",
              "      [theme=dark] .colab-df-generate:hover {\n",
              "        background-color: #434B5C;\n",
              "        box-shadow: 0px 1px 3px 1px rgba(0, 0, 0, 0.15);\n",
              "        filter: drop-shadow(0px 1px 2px rgba(0, 0, 0, 0.3));\n",
              "        fill: #FFFFFF;\n",
              "      }\n",
              "    </style>\n",
              "    <button class=\"colab-df-generate\" onclick=\"generateWithVariable('box_df')\"\n",
              "            title=\"Generate code using this dataframe.\"\n",
              "            style=\"display:none;\">\n",
              "\n",
              "  <svg xmlns=\"http://www.w3.org/2000/svg\" height=\"24px\"viewBox=\"0 0 24 24\"\n",
              "       width=\"24px\">\n",
              "    <path d=\"M7,19H8.4L18.45,9,17,7.55,7,17.6ZM5,21V16.75L18.45,3.32a2,2,0,0,1,2.83,0l1.4,1.43a1.91,1.91,0,0,1,.58,1.4,1.91,1.91,0,0,1-.58,1.4L9.25,21ZM18.45,9,17,7.55Zm-12,3A5.31,5.31,0,0,0,4.9,8.1,5.31,5.31,0,0,0,1,6.5,5.31,5.31,0,0,0,4.9,4.9,5.31,5.31,0,0,0,6.5,1,5.31,5.31,0,0,0,8.1,4.9,5.31,5.31,0,0,0,12,6.5,5.46,5.46,0,0,0,6.5,12Z\"/>\n",
              "  </svg>\n",
              "    </button>\n",
              "    <script>\n",
              "      (() => {\n",
              "      const buttonEl =\n",
              "        document.querySelector('#id_c25fea1f-8c63-48e1-8b4e-461520c2ec6c button.colab-df-generate');\n",
              "      buttonEl.style.display =\n",
              "        google.colab.kernel.accessAllowed ? 'block' : 'none';\n",
              "\n",
              "      buttonEl.onclick = () => {\n",
              "        google.colab.notebook.generateWithVariable('box_df');\n",
              "      }\n",
              "      })();\n",
              "    </script>\n",
              "  </div>\n",
              "\n",
              "    </div>\n",
              "  </div>\n"
            ],
            "application/vnd.google.colaboratory.intrinsic+json": {
              "type": "dataframe",
              "variable_name": "box_df"
            }
          },
          "metadata": {},
          "execution_count": 200
        }
      ]
    },
    {
      "cell_type": "code",
      "source": [
        "unmatched_zscores = zscores_subset[~zscores_subset['PLAYER'].isin(box['PLAYER'])]\n",
        "unmatched_box = box[~box['PLAYER'].isin(zscores_subset['PLAYER'])]\n",
        "\n",
        "print(\"Unmatched in zscores_subset:\", unmatched_zscores)\n",
        "print(\"Unmatched in box:\", unmatched_box)"
      ],
      "metadata": {
        "colab": {
          "base_uri": "https://localhost:8080/"
        },
        "id": "LghvwRHbMSk4",
        "outputId": "8fa4c0ab-2c3d-4318-814c-45c60cae7cad"
      },
      "execution_count": null,
      "outputs": [
        {
          "output_type": "stream",
          "name": "stdout",
          "text": [
            "Unmatched in zscores_subset:                       PLAYER  Zscore  BBM_RANK\n",
            "0                Joel Embiid    1.06         1\n",
            "1    Shai Gilgeous-Alexander    0.99         2\n",
            "9          Tyrese Haliburton    0.48        10\n",
            "13        Kristaps Porzingis    0.41        14\n",
            "18              Tyrese Maxey    0.30        19\n",
            "..                       ...     ...       ...\n",
            "181       Brandin Podziemski   -0.39       182\n",
            "183         Taylor Hendricks   -0.40       184\n",
            "184           Brandon Clarke   -0.40       185\n",
            "185           Shaedon Sharpe   -0.40       186\n",
            "187            Cason Wallace   -0.41       188\n",
            "\n",
            "[91 rows x 3 columns]\n",
            "Unmatched in box:     PLAYER_ID  RANK             PLAYER     TEAM_ID TEAM  GP   MIN  FGM  FGA  \\\n",
            "3     1630530   131    Trey Murphy III  1610612740  NOP  57  1690  275  621   \n",
            "4     1629023   106    P.J. Washington  1610612742  DAL  73  2221  354  811   \n",
            "7     1630631   250      Jose Alvarado  1610612740  NOP  56  1028  142  345   \n",
            "8     1630214   298     Xavier Tillman  1610612738  BOS  54   975  121  279   \n",
            "9     1629656   264     Quentin Grimes  1610612765  DET  51  1025  122  328   \n",
            "..        ...   ...                ...         ...  ...  ..   ...  ...  ...   \n",
            "209   1628998   337        Cody Martin  1610612766  CHA  28   753   82  215   \n",
            "210   1629007   397      Jontay Porter  1610612761  TOR  26   360   40  104   \n",
            "211   1630568   406         Luka Garza  1610612750  MIN  25   122   36   75   \n",
            "212   1630551   414  Justin Champagnie  1610612764  WAS  15   235   32   78   \n",
            "213   1630610   458      DeJon Jarreau  1610612763  MEM   9   150   17   50   \n",
            "\n",
            "     FG_PCT  ...  AST  STL  BLK  TOV   PF  PTS   EFF  AST_TOV  STL_TOV  \\\n",
            "3     0.443  ...  124   51   28   34   70  842   917     3.65     1.50   \n",
            "4     0.436  ...  141   72   59   96  169  939  1023     1.47     0.75   \n",
            "7     0.412  ...  117   59   15   40   89  397   456     2.92     1.48   \n",
            "8     0.434  ...   77   51   44   34   75  284   447     2.27     1.50   \n",
            "9     0.372  ...   66   35    7   28   75  359   322     2.36     1.25   \n",
            "..      ...  ...  ...  ...  ...  ...  ...  ...   ...      ...      ...   \n",
            "209   0.381  ...  104   32   18   44   48  211   284     2.36     0.73   \n",
            "210   0.385  ...   60   20   20   21   35  115   209     2.86     0.95   \n",
            "211   0.480  ...    4    4    1    6   24   99    87     0.67     0.67   \n",
            "212   0.410  ...   19   10    9   10   14   89   121     1.90     1.00   \n",
            "213   0.340  ...   26    6    2    9   14   43    73     2.89     0.67   \n",
            "\n",
            "        OWNER  \n",
            "3        Buzz  \n",
            "4        Buzz  \n",
            "7        Buzz  \n",
            "8        Buzz  \n",
            "9        Buzz  \n",
            "..        ...  \n",
            "209  31savage  \n",
            "210  31savage  \n",
            "211  31savage  \n",
            "212  31savage  \n",
            "213  31savage  \n",
            "\n",
            "[117 rows x 29 columns]\n"
          ]
        }
      ]
    },
    {
      "cell_type": "markdown",
      "source": [
        "### Adicionando FBI Dinasty Ranks para Box_df"
      ],
      "metadata": {
        "id": "cEzCa7gkkmKD"
      }
    },
    {
      "cell_type": "code",
      "source": [
        "#Importação de tabela\n",
        "fbi = pd.read_csv('/content/drive/MyDrive/NBA/FBI Dinasty Rankings/FBI_dinasty_rankings_fixed.csv', sep = ';')"
      ],
      "metadata": {
        "id": "MpHuR0Tvkq9k"
      },
      "execution_count": null,
      "outputs": []
    },
    {
      "cell_type": "code",
      "source": [
        "fbi"
      ],
      "metadata": {
        "colab": {
          "base_uri": "https://localhost:8080/",
          "height": 423
        },
        "id": "VwJcc3wLmg57",
        "outputId": "fe3f92cd-54ea-4b49-87c9-e443361bf383"
      },
      "execution_count": null,
      "outputs": [
        {
          "output_type": "execute_result",
          "data": {
            "text/plain": [
              "     Rank  Unnamed: 1                   Player Team  Unnamed: 4   Birthdate  \\\n",
              "0       1         NaN        Victor Wembanyama  SAS         NaN  01/04/2004   \n",
              "1       2         NaN              Luka Doncic  DAL         NaN   2/28/1999   \n",
              "2       3         NaN  Shai Gilgeous-Alexander  OKC         NaN  07/12/1998   \n",
              "3       4         NaN             Nikola Jokic  DEN         NaN   2/19/1995   \n",
              "4       5         NaN        Tyrese Haliburton  IND         NaN   2/29/2000   \n",
              "..    ...         ...                      ...  ...         ...         ...   \n",
              "563   564         NaN             Malcolm Hill  NOR         NaN  10/26/1995   \n",
              "564   565         NaN            James Johnson  IND         NaN   2/20/1987   \n",
              "565   566         NaN               Pete Nance  CLE         NaN   2/19/2000   \n",
              "566   567         NaN           Garrett Temple  TOR         NaN  05/08/1986   \n",
              "567   568         NaN               Taj Gibson  DET         NaN   6/24/1985   \n",
              "\n",
              "    Pos.   Age Change             Projected Peak Stat Set  \\\n",
              "0      C  20.5      0  FG% PTS 3PT REB AST STL BLK FT% TO   \n",
              "1     SF  25.4      0  FG% PTS 3PT REB AST STL BLK FT% TO   \n",
              "2     PG  26.0      0  FG% PTS 3PT REB AST STL BLK FT% TO   \n",
              "3      C  29.4      0  FG% PTS 3PT REB AST STL BLK FT% TO   \n",
              "4     PG  24.4      0  FG% PTS 3PT REB AST STL BLK FT% TO   \n",
              "..   ...   ...    ...                                 ...   \n",
              "563   SF  28.7    -50  FG% PTS 3PT REB AST STL BLK FT% TO   \n",
              "564   PF  37.4    -32                         Coming Soon   \n",
              "565   PF  24.4    -51                         Coming Soon   \n",
              "566   SF  38.2    -33  FG% PTS 3PT REB AST STL BLK FT% TO   \n",
              "567    C  39.1    -33  FG% PTS 3PT REB AST STL BLK FT% TO   \n",
              "\n",
              "                 Stat Set Score  \n",
              "0    ⭐️⭐️⭐️⭐️⭐️⭐️⭐️⭐️⭐️⭐️⭐⭐⭐⭐⭐⭐  \n",
              "1                 ⭐⭐⭐⭐⭐⭐⭐⭐⭐⭐⭐⭐⭐  \n",
              "2                 ⭐⭐⭐⭐⭐⭐⭐⭐⭐⭐⭐⭐⭐  \n",
              "3       ⭐️⭐️⭐️⭐️⭐️⭐️⭐️⭐️⭐️⭐️⭐⭐⭐  \n",
              "4                    ⭐⭐⭐⭐⭐⭐⭐⭐⭐⭐  \n",
              "..                          ...  \n",
              "563                         NaN  \n",
              "564                         NaN  \n",
              "565                         NaN  \n",
              "566                  ❌❌❌❌❌❌❌❌❌❌  \n",
              "567                 ❌❌❌❌❌❌❌❌❌❌❌  \n",
              "\n",
              "[568 rows x 11 columns]"
            ],
            "text/html": [
              "\n",
              "  <div id=\"df-a509ddf2-fd53-47d5-bee9-aee591944022\" class=\"colab-df-container\">\n",
              "    <div>\n",
              "<style scoped>\n",
              "    .dataframe tbody tr th:only-of-type {\n",
              "        vertical-align: middle;\n",
              "    }\n",
              "\n",
              "    .dataframe tbody tr th {\n",
              "        vertical-align: top;\n",
              "    }\n",
              "\n",
              "    .dataframe thead th {\n",
              "        text-align: right;\n",
              "    }\n",
              "</style>\n",
              "<table border=\"1\" class=\"dataframe\">\n",
              "  <thead>\n",
              "    <tr style=\"text-align: right;\">\n",
              "      <th></th>\n",
              "      <th>Rank</th>\n",
              "      <th>Unnamed: 1</th>\n",
              "      <th>Player</th>\n",
              "      <th>Team</th>\n",
              "      <th>Unnamed: 4</th>\n",
              "      <th>Birthdate</th>\n",
              "      <th>Pos.</th>\n",
              "      <th>Age</th>\n",
              "      <th>Change</th>\n",
              "      <th>Projected Peak Stat Set</th>\n",
              "      <th>Stat Set Score</th>\n",
              "    </tr>\n",
              "  </thead>\n",
              "  <tbody>\n",
              "    <tr>\n",
              "      <th>0</th>\n",
              "      <td>1</td>\n",
              "      <td>NaN</td>\n",
              "      <td>Victor Wembanyama</td>\n",
              "      <td>SAS</td>\n",
              "      <td>NaN</td>\n",
              "      <td>01/04/2004</td>\n",
              "      <td>C</td>\n",
              "      <td>20.5</td>\n",
              "      <td>0</td>\n",
              "      <td>FG% PTS 3PT REB AST STL BLK FT% TO</td>\n",
              "      <td>⭐️⭐️⭐️⭐️⭐️⭐️⭐️⭐️⭐️⭐️⭐⭐⭐⭐⭐⭐</td>\n",
              "    </tr>\n",
              "    <tr>\n",
              "      <th>1</th>\n",
              "      <td>2</td>\n",
              "      <td>NaN</td>\n",
              "      <td>Luka Doncic</td>\n",
              "      <td>DAL</td>\n",
              "      <td>NaN</td>\n",
              "      <td>2/28/1999</td>\n",
              "      <td>SF</td>\n",
              "      <td>25.4</td>\n",
              "      <td>0</td>\n",
              "      <td>FG% PTS 3PT REB AST STL BLK FT% TO</td>\n",
              "      <td>⭐⭐⭐⭐⭐⭐⭐⭐⭐⭐⭐⭐⭐</td>\n",
              "    </tr>\n",
              "    <tr>\n",
              "      <th>2</th>\n",
              "      <td>3</td>\n",
              "      <td>NaN</td>\n",
              "      <td>Shai Gilgeous-Alexander</td>\n",
              "      <td>OKC</td>\n",
              "      <td>NaN</td>\n",
              "      <td>07/12/1998</td>\n",
              "      <td>PG</td>\n",
              "      <td>26.0</td>\n",
              "      <td>0</td>\n",
              "      <td>FG% PTS 3PT REB AST STL BLK FT% TO</td>\n",
              "      <td>⭐⭐⭐⭐⭐⭐⭐⭐⭐⭐⭐⭐⭐</td>\n",
              "    </tr>\n",
              "    <tr>\n",
              "      <th>3</th>\n",
              "      <td>4</td>\n",
              "      <td>NaN</td>\n",
              "      <td>Nikola Jokic</td>\n",
              "      <td>DEN</td>\n",
              "      <td>NaN</td>\n",
              "      <td>2/19/1995</td>\n",
              "      <td>C</td>\n",
              "      <td>29.4</td>\n",
              "      <td>0</td>\n",
              "      <td>FG% PTS 3PT REB AST STL BLK FT% TO</td>\n",
              "      <td>⭐️⭐️⭐️⭐️⭐️⭐️⭐️⭐️⭐️⭐️⭐⭐⭐</td>\n",
              "    </tr>\n",
              "    <tr>\n",
              "      <th>4</th>\n",
              "      <td>5</td>\n",
              "      <td>NaN</td>\n",
              "      <td>Tyrese Haliburton</td>\n",
              "      <td>IND</td>\n",
              "      <td>NaN</td>\n",
              "      <td>2/29/2000</td>\n",
              "      <td>PG</td>\n",
              "      <td>24.4</td>\n",
              "      <td>0</td>\n",
              "      <td>FG% PTS 3PT REB AST STL BLK FT% TO</td>\n",
              "      <td>⭐⭐⭐⭐⭐⭐⭐⭐⭐⭐</td>\n",
              "    </tr>\n",
              "    <tr>\n",
              "      <th>...</th>\n",
              "      <td>...</td>\n",
              "      <td>...</td>\n",
              "      <td>...</td>\n",
              "      <td>...</td>\n",
              "      <td>...</td>\n",
              "      <td>...</td>\n",
              "      <td>...</td>\n",
              "      <td>...</td>\n",
              "      <td>...</td>\n",
              "      <td>...</td>\n",
              "      <td>...</td>\n",
              "    </tr>\n",
              "    <tr>\n",
              "      <th>563</th>\n",
              "      <td>564</td>\n",
              "      <td>NaN</td>\n",
              "      <td>Malcolm Hill</td>\n",
              "      <td>NOR</td>\n",
              "      <td>NaN</td>\n",
              "      <td>10/26/1995</td>\n",
              "      <td>SF</td>\n",
              "      <td>28.7</td>\n",
              "      <td>-50</td>\n",
              "      <td>FG% PTS 3PT REB AST STL BLK FT% TO</td>\n",
              "      <td>NaN</td>\n",
              "    </tr>\n",
              "    <tr>\n",
              "      <th>564</th>\n",
              "      <td>565</td>\n",
              "      <td>NaN</td>\n",
              "      <td>James Johnson</td>\n",
              "      <td>IND</td>\n",
              "      <td>NaN</td>\n",
              "      <td>2/20/1987</td>\n",
              "      <td>PF</td>\n",
              "      <td>37.4</td>\n",
              "      <td>-32</td>\n",
              "      <td>Coming Soon</td>\n",
              "      <td>NaN</td>\n",
              "    </tr>\n",
              "    <tr>\n",
              "      <th>565</th>\n",
              "      <td>566</td>\n",
              "      <td>NaN</td>\n",
              "      <td>Pete Nance</td>\n",
              "      <td>CLE</td>\n",
              "      <td>NaN</td>\n",
              "      <td>2/19/2000</td>\n",
              "      <td>PF</td>\n",
              "      <td>24.4</td>\n",
              "      <td>-51</td>\n",
              "      <td>Coming Soon</td>\n",
              "      <td>NaN</td>\n",
              "    </tr>\n",
              "    <tr>\n",
              "      <th>566</th>\n",
              "      <td>567</td>\n",
              "      <td>NaN</td>\n",
              "      <td>Garrett Temple</td>\n",
              "      <td>TOR</td>\n",
              "      <td>NaN</td>\n",
              "      <td>05/08/1986</td>\n",
              "      <td>SF</td>\n",
              "      <td>38.2</td>\n",
              "      <td>-33</td>\n",
              "      <td>FG% PTS 3PT REB AST STL BLK FT% TO</td>\n",
              "      <td>❌❌❌❌❌❌❌❌❌❌</td>\n",
              "    </tr>\n",
              "    <tr>\n",
              "      <th>567</th>\n",
              "      <td>568</td>\n",
              "      <td>NaN</td>\n",
              "      <td>Taj Gibson</td>\n",
              "      <td>DET</td>\n",
              "      <td>NaN</td>\n",
              "      <td>6/24/1985</td>\n",
              "      <td>C</td>\n",
              "      <td>39.1</td>\n",
              "      <td>-33</td>\n",
              "      <td>FG% PTS 3PT REB AST STL BLK FT% TO</td>\n",
              "      <td>❌❌❌❌❌❌❌❌❌❌❌</td>\n",
              "    </tr>\n",
              "  </tbody>\n",
              "</table>\n",
              "<p>568 rows × 11 columns</p>\n",
              "</div>\n",
              "    <div class=\"colab-df-buttons\">\n",
              "\n",
              "  <div class=\"colab-df-container\">\n",
              "    <button class=\"colab-df-convert\" onclick=\"convertToInteractive('df-a509ddf2-fd53-47d5-bee9-aee591944022')\"\n",
              "            title=\"Convert this dataframe to an interactive table.\"\n",
              "            style=\"display:none;\">\n",
              "\n",
              "  <svg xmlns=\"http://www.w3.org/2000/svg\" height=\"24px\" viewBox=\"0 -960 960 960\">\n",
              "    <path d=\"M120-120v-720h720v720H120Zm60-500h600v-160H180v160Zm220 220h160v-160H400v160Zm0 220h160v-160H400v160ZM180-400h160v-160H180v160Zm440 0h160v-160H620v160ZM180-180h160v-160H180v160Zm440 0h160v-160H620v160Z\"/>\n",
              "  </svg>\n",
              "    </button>\n",
              "\n",
              "  <style>\n",
              "    .colab-df-container {\n",
              "      display:flex;\n",
              "      gap: 12px;\n",
              "    }\n",
              "\n",
              "    .colab-df-convert {\n",
              "      background-color: #E8F0FE;\n",
              "      border: none;\n",
              "      border-radius: 50%;\n",
              "      cursor: pointer;\n",
              "      display: none;\n",
              "      fill: #1967D2;\n",
              "      height: 32px;\n",
              "      padding: 0 0 0 0;\n",
              "      width: 32px;\n",
              "    }\n",
              "\n",
              "    .colab-df-convert:hover {\n",
              "      background-color: #E2EBFA;\n",
              "      box-shadow: 0px 1px 2px rgba(60, 64, 67, 0.3), 0px 1px 3px 1px rgba(60, 64, 67, 0.15);\n",
              "      fill: #174EA6;\n",
              "    }\n",
              "\n",
              "    .colab-df-buttons div {\n",
              "      margin-bottom: 4px;\n",
              "    }\n",
              "\n",
              "    [theme=dark] .colab-df-convert {\n",
              "      background-color: #3B4455;\n",
              "      fill: #D2E3FC;\n",
              "    }\n",
              "\n",
              "    [theme=dark] .colab-df-convert:hover {\n",
              "      background-color: #434B5C;\n",
              "      box-shadow: 0px 1px 3px 1px rgba(0, 0, 0, 0.15);\n",
              "      filter: drop-shadow(0px 1px 2px rgba(0, 0, 0, 0.3));\n",
              "      fill: #FFFFFF;\n",
              "    }\n",
              "  </style>\n",
              "\n",
              "    <script>\n",
              "      const buttonEl =\n",
              "        document.querySelector('#df-a509ddf2-fd53-47d5-bee9-aee591944022 button.colab-df-convert');\n",
              "      buttonEl.style.display =\n",
              "        google.colab.kernel.accessAllowed ? 'block' : 'none';\n",
              "\n",
              "      async function convertToInteractive(key) {\n",
              "        const element = document.querySelector('#df-a509ddf2-fd53-47d5-bee9-aee591944022');\n",
              "        const dataTable =\n",
              "          await google.colab.kernel.invokeFunction('convertToInteractive',\n",
              "                                                    [key], {});\n",
              "        if (!dataTable) return;\n",
              "\n",
              "        const docLinkHtml = 'Like what you see? Visit the ' +\n",
              "          '<a target=\"_blank\" href=https://colab.research.google.com/notebooks/data_table.ipynb>data table notebook</a>'\n",
              "          + ' to learn more about interactive tables.';\n",
              "        element.innerHTML = '';\n",
              "        dataTable['output_type'] = 'display_data';\n",
              "        await google.colab.output.renderOutput(dataTable, element);\n",
              "        const docLink = document.createElement('div');\n",
              "        docLink.innerHTML = docLinkHtml;\n",
              "        element.appendChild(docLink);\n",
              "      }\n",
              "    </script>\n",
              "  </div>\n",
              "\n",
              "\n",
              "<div id=\"df-2c738098-acee-4f10-a1d9-811177fb02e1\">\n",
              "  <button class=\"colab-df-quickchart\" onclick=\"quickchart('df-2c738098-acee-4f10-a1d9-811177fb02e1')\"\n",
              "            title=\"Suggest charts\"\n",
              "            style=\"display:none;\">\n",
              "\n",
              "<svg xmlns=\"http://www.w3.org/2000/svg\" height=\"24px\"viewBox=\"0 0 24 24\"\n",
              "     width=\"24px\">\n",
              "    <g>\n",
              "        <path d=\"M19 3H5c-1.1 0-2 .9-2 2v14c0 1.1.9 2 2 2h14c1.1 0 2-.9 2-2V5c0-1.1-.9-2-2-2zM9 17H7v-7h2v7zm4 0h-2V7h2v10zm4 0h-2v-4h2v4z\"/>\n",
              "    </g>\n",
              "</svg>\n",
              "  </button>\n",
              "\n",
              "<style>\n",
              "  .colab-df-quickchart {\n",
              "      --bg-color: #E8F0FE;\n",
              "      --fill-color: #1967D2;\n",
              "      --hover-bg-color: #E2EBFA;\n",
              "      --hover-fill-color: #174EA6;\n",
              "      --disabled-fill-color: #AAA;\n",
              "      --disabled-bg-color: #DDD;\n",
              "  }\n",
              "\n",
              "  [theme=dark] .colab-df-quickchart {\n",
              "      --bg-color: #3B4455;\n",
              "      --fill-color: #D2E3FC;\n",
              "      --hover-bg-color: #434B5C;\n",
              "      --hover-fill-color: #FFFFFF;\n",
              "      --disabled-bg-color: #3B4455;\n",
              "      --disabled-fill-color: #666;\n",
              "  }\n",
              "\n",
              "  .colab-df-quickchart {\n",
              "    background-color: var(--bg-color);\n",
              "    border: none;\n",
              "    border-radius: 50%;\n",
              "    cursor: pointer;\n",
              "    display: none;\n",
              "    fill: var(--fill-color);\n",
              "    height: 32px;\n",
              "    padding: 0;\n",
              "    width: 32px;\n",
              "  }\n",
              "\n",
              "  .colab-df-quickchart:hover {\n",
              "    background-color: var(--hover-bg-color);\n",
              "    box-shadow: 0 1px 2px rgba(60, 64, 67, 0.3), 0 1px 3px 1px rgba(60, 64, 67, 0.15);\n",
              "    fill: var(--button-hover-fill-color);\n",
              "  }\n",
              "\n",
              "  .colab-df-quickchart-complete:disabled,\n",
              "  .colab-df-quickchart-complete:disabled:hover {\n",
              "    background-color: var(--disabled-bg-color);\n",
              "    fill: var(--disabled-fill-color);\n",
              "    box-shadow: none;\n",
              "  }\n",
              "\n",
              "  .colab-df-spinner {\n",
              "    border: 2px solid var(--fill-color);\n",
              "    border-color: transparent;\n",
              "    border-bottom-color: var(--fill-color);\n",
              "    animation:\n",
              "      spin 1s steps(1) infinite;\n",
              "  }\n",
              "\n",
              "  @keyframes spin {\n",
              "    0% {\n",
              "      border-color: transparent;\n",
              "      border-bottom-color: var(--fill-color);\n",
              "      border-left-color: var(--fill-color);\n",
              "    }\n",
              "    20% {\n",
              "      border-color: transparent;\n",
              "      border-left-color: var(--fill-color);\n",
              "      border-top-color: var(--fill-color);\n",
              "    }\n",
              "    30% {\n",
              "      border-color: transparent;\n",
              "      border-left-color: var(--fill-color);\n",
              "      border-top-color: var(--fill-color);\n",
              "      border-right-color: var(--fill-color);\n",
              "    }\n",
              "    40% {\n",
              "      border-color: transparent;\n",
              "      border-right-color: var(--fill-color);\n",
              "      border-top-color: var(--fill-color);\n",
              "    }\n",
              "    60% {\n",
              "      border-color: transparent;\n",
              "      border-right-color: var(--fill-color);\n",
              "    }\n",
              "    80% {\n",
              "      border-color: transparent;\n",
              "      border-right-color: var(--fill-color);\n",
              "      border-bottom-color: var(--fill-color);\n",
              "    }\n",
              "    90% {\n",
              "      border-color: transparent;\n",
              "      border-bottom-color: var(--fill-color);\n",
              "    }\n",
              "  }\n",
              "</style>\n",
              "\n",
              "  <script>\n",
              "    async function quickchart(key) {\n",
              "      const quickchartButtonEl =\n",
              "        document.querySelector('#' + key + ' button');\n",
              "      quickchartButtonEl.disabled = true;  // To prevent multiple clicks.\n",
              "      quickchartButtonEl.classList.add('colab-df-spinner');\n",
              "      try {\n",
              "        const charts = await google.colab.kernel.invokeFunction(\n",
              "            'suggestCharts', [key], {});\n",
              "      } catch (error) {\n",
              "        console.error('Error during call to suggestCharts:', error);\n",
              "      }\n",
              "      quickchartButtonEl.classList.remove('colab-df-spinner');\n",
              "      quickchartButtonEl.classList.add('colab-df-quickchart-complete');\n",
              "    }\n",
              "    (() => {\n",
              "      let quickchartButtonEl =\n",
              "        document.querySelector('#df-2c738098-acee-4f10-a1d9-811177fb02e1 button');\n",
              "      quickchartButtonEl.style.display =\n",
              "        google.colab.kernel.accessAllowed ? 'block' : 'none';\n",
              "    })();\n",
              "  </script>\n",
              "</div>\n",
              "\n",
              "  <div id=\"id_e57d7b27-faca-401a-8f66-f98cce2111eb\">\n",
              "    <style>\n",
              "      .colab-df-generate {\n",
              "        background-color: #E8F0FE;\n",
              "        border: none;\n",
              "        border-radius: 50%;\n",
              "        cursor: pointer;\n",
              "        display: none;\n",
              "        fill: #1967D2;\n",
              "        height: 32px;\n",
              "        padding: 0 0 0 0;\n",
              "        width: 32px;\n",
              "      }\n",
              "\n",
              "      .colab-df-generate:hover {\n",
              "        background-color: #E2EBFA;\n",
              "        box-shadow: 0px 1px 2px rgba(60, 64, 67, 0.3), 0px 1px 3px 1px rgba(60, 64, 67, 0.15);\n",
              "        fill: #174EA6;\n",
              "      }\n",
              "\n",
              "      [theme=dark] .colab-df-generate {\n",
              "        background-color: #3B4455;\n",
              "        fill: #D2E3FC;\n",
              "      }\n",
              "\n",
              "      [theme=dark] .colab-df-generate:hover {\n",
              "        background-color: #434B5C;\n",
              "        box-shadow: 0px 1px 3px 1px rgba(0, 0, 0, 0.15);\n",
              "        filter: drop-shadow(0px 1px 2px rgba(0, 0, 0, 0.3));\n",
              "        fill: #FFFFFF;\n",
              "      }\n",
              "    </style>\n",
              "    <button class=\"colab-df-generate\" onclick=\"generateWithVariable('fbi')\"\n",
              "            title=\"Generate code using this dataframe.\"\n",
              "            style=\"display:none;\">\n",
              "\n",
              "  <svg xmlns=\"http://www.w3.org/2000/svg\" height=\"24px\"viewBox=\"0 0 24 24\"\n",
              "       width=\"24px\">\n",
              "    <path d=\"M7,19H8.4L18.45,9,17,7.55,7,17.6ZM5,21V16.75L18.45,3.32a2,2,0,0,1,2.83,0l1.4,1.43a1.91,1.91,0,0,1,.58,1.4,1.91,1.91,0,0,1-.58,1.4L9.25,21ZM18.45,9,17,7.55Zm-12,3A5.31,5.31,0,0,0,4.9,8.1,5.31,5.31,0,0,0,1,6.5,5.31,5.31,0,0,0,4.9,4.9,5.31,5.31,0,0,0,6.5,1,5.31,5.31,0,0,0,8.1,4.9,5.31,5.31,0,0,0,12,6.5,5.46,5.46,0,0,0,6.5,12Z\"/>\n",
              "  </svg>\n",
              "    </button>\n",
              "    <script>\n",
              "      (() => {\n",
              "      const buttonEl =\n",
              "        document.querySelector('#id_e57d7b27-faca-401a-8f66-f98cce2111eb button.colab-df-generate');\n",
              "      buttonEl.style.display =\n",
              "        google.colab.kernel.accessAllowed ? 'block' : 'none';\n",
              "\n",
              "      buttonEl.onclick = () => {\n",
              "        google.colab.notebook.generateWithVariable('fbi');\n",
              "      }\n",
              "      })();\n",
              "    </script>\n",
              "  </div>\n",
              "\n",
              "    </div>\n",
              "  </div>\n"
            ],
            "application/vnd.google.colaboratory.intrinsic+json": {
              "type": "dataframe",
              "variable_name": "fbi",
              "summary": "{\n  \"name\": \"fbi\",\n  \"rows\": 568,\n  \"fields\": [\n    {\n      \"column\": \"Rank\",\n      \"properties\": {\n        \"dtype\": \"number\",\n        \"std\": 164,\n        \"min\": 1,\n        \"max\": 568,\n        \"num_unique_values\": 568,\n        \"samples\": [\n          219,\n          80,\n          105\n        ],\n        \"semantic_type\": \"\",\n        \"description\": \"\"\n      }\n    },\n    {\n      \"column\": \"Unnamed: 1\",\n      \"properties\": {\n        \"dtype\": \"number\",\n        \"std\": null,\n        \"min\": null,\n        \"max\": null,\n        \"num_unique_values\": 0,\n        \"samples\": [],\n        \"semantic_type\": \"\",\n        \"description\": \"\"\n      }\n    },\n    {\n      \"column\": \"Player\",\n      \"properties\": {\n        \"dtype\": \"string\",\n        \"num_unique_values\": 568,\n        \"samples\": [],\n        \"semantic_type\": \"\",\n        \"description\": \"\"\n      }\n    },\n    {\n      \"column\": \"Team\",\n      \"properties\": {\n        \"dtype\": \"category\",\n        \"num_unique_values\": 30,\n        \"samples\": [],\n        \"semantic_type\": \"\",\n        \"description\": \"\"\n      }\n    },\n    {\n      \"column\": \"Unnamed: 4\",\n      \"properties\": {\n        \"dtype\": \"number\",\n        \"std\": null,\n        \"min\": null,\n        \"max\": null,\n        \"num_unique_values\": 0,\n        \"samples\": [],\n        \"semantic_type\": \"\",\n        \"description\": \"\"\n      }\n    },\n    {\n      \"column\": \"Birthdate\",\n      \"properties\": {\n        \"dtype\": \"object\",\n        \"num_unique_values\": 539,\n        \"samples\": [],\n        \"semantic_type\": \"\",\n        \"description\": \"\"\n      }\n    },\n    {\n      \"column\": \"Pos.\",\n      \"properties\": {\n        \"dtype\": \"category\",\n        \"num_unique_values\": 6,\n        \"samples\": [],\n        \"semantic_type\": \"\",\n        \"description\": \"\"\n      }\n    },\n    {\n      \"column\": \"Age\",\n      \"properties\": {\n        \"dtype\": \"number\",\n        \"std\": 4.427943739787633,\n        \"min\": 18.9,\n        \"max\": 39.6,\n        \"num_unique_values\": 165,\n        \"samples\": [],\n        \"semantic_type\": \"\",\n        \"description\": \"\"\n      }\n    },\n    {\n      \"column\": \"Change\",\n      \"properties\": {\n        \"dtype\": \"category\",\n        \"num_unique_values\": 71,\n        \"samples\": [],\n        \"semantic_type\": \"\",\n        \"description\": \"\"\n      }\n    },\n    {\n      \"column\": \"Projected Peak Stat Set\",\n      \"properties\": {\n        \"dtype\": \"category\",\n        \"num_unique_values\": 2,\n        \"samples\": [],\n        \"semantic_type\": \"\",\n        \"description\": \"\"\n      }\n    },\n    {\n      \"column\": \"Stat Set Score\",\n      \"properties\": {\n        \"dtype\": \"category\",\n        \"num_unique_values\": 25,\n        \"samples\": [],\n        \"semantic_type\": \"\",\n        \"description\": \"\"\n      }\n    }\n  ]\n}"
            }
          },
          "metadata": {},
          "execution_count": 203
        }
      ]
    },
    {
      "cell_type": "code",
      "source": [
        "#Renomear \"value\" para \"zscore\"\n",
        "fbi.rename(columns={'Player': 'PLAYER'}, inplace=True)\n",
        "fbi.rename(columns={'Rank': 'FBI_RANK'}, inplace=True)"
      ],
      "metadata": {
        "id": "7Ol4-i23mEFc"
      },
      "execution_count": null,
      "outputs": []
    },
    {
      "cell_type": "code",
      "source": [
        "# Selecionar apenas a coluna 'zscore' do dataframe zscores para dar merge com box_pg\n",
        "fbi_subset = fbi[['PLAYER', 'FBI_RANK', 'Age']]"
      ],
      "metadata": {
        "id": "LVroNgdSmEkk"
      },
      "execution_count": null,
      "outputs": []
    },
    {
      "cell_type": "code",
      "source": [
        "fbi_subset.dtypes"
      ],
      "metadata": {
        "colab": {
          "base_uri": "https://localhost:8080/"
        },
        "id": "abZgZNEbnqCk",
        "outputId": "b0c9a9ed-1ed3-4a39-faad-d024cfa5bc23"
      },
      "execution_count": null,
      "outputs": [
        {
          "output_type": "execute_result",
          "data": {
            "text/plain": [
              "PLAYER       object\n",
              "FBI_RANK      int64\n",
              "Age         float64\n",
              "dtype: object"
            ]
          },
          "metadata": {},
          "execution_count": 206
        }
      ]
    },
    {
      "cell_type": "code",
      "source": [
        "#Falhas no join\n",
        "unmatched_box = box[~box['PLAYER'].isin(fbi_subset['PLAYER'])]\n",
        "\n",
        "print(\"Unmatched in box:\", unmatched_box)"
      ],
      "metadata": {
        "colab": {
          "base_uri": "https://localhost:8080/"
        },
        "id": "Wwg86wf0NnxO",
        "outputId": "a478d317-5e20-4701-d86a-21ffd823aeaf"
      },
      "execution_count": null,
      "outputs": [
        {
          "output_type": "stream",
          "name": "stdout",
          "text": [
            "Unmatched in box:     PLAYER_ID  RANK             PLAYER     TEAM_ID TEAM  GP  MIN  FGM  FGA  \\\n",
            "33    1630587   399      Isaiah Livers  1610612765  DET  23  469   40  116   \n",
            "124    202722   294      Davis Bertans  1610612766  CHA  43  674   92  234   \n",
            "196   1630249   386         Vit Krejci  1610612737  ATL  22  541   51  104   \n",
            "210   1629007   397      Jontay Porter  1610612761  TOR  26  360   40  104   \n",
            "212   1630551   414  Justin Champagnie  1610612764  WAS  15  235   32   78   \n",
            "213   1630610   458      DeJon Jarreau  1610612763  MEM   9  150   17   50   \n",
            "\n",
            "     FG_PCT  ...  AST  STL  BLK  TOV  PF  PTS  EFF  AST_TOV  STL_TOV     OWNER  \n",
            "33    0.345  ...   25   13    5   16  43  114  107     1.56     0.81       luk  \n",
            "124   0.393  ...   35   26   12   18  56  290  261     1.94     1.44       ect  \n",
            "196   0.490  ...   50   13    6   20  48  135  182     2.50     0.65    hatter  \n",
            "210   0.385  ...   60   20   20   21  35  115  209     2.86     0.95  31savage  \n",
            "212   0.410  ...   19   10    9   10  14   89  121     1.90     1.00  31savage  \n",
            "213   0.340  ...   26    6    2    9  14   43   73     2.89     0.67  31savage  \n",
            "\n",
            "[6 rows x 29 columns]\n"
          ]
        }
      ]
    },
    {
      "cell_type": "code",
      "source": [
        "# Realizar o merge usando a coluna \"PLAYER\" como chave\n",
        "box_df = pd.merge(box_df, fbi_subset, on='PLAYER', how='left')"
      ],
      "metadata": {
        "id": "nlNZGXbPnq2r"
      },
      "execution_count": null,
      "outputs": []
    },
    {
      "cell_type": "markdown",
      "source": [
        "### Adicionando Dizzle Dazzle Ranks para Box_df"
      ],
      "metadata": {
        "id": "mH3_qw2ToJ-l"
      }
    },
    {
      "cell_type": "code",
      "source": [
        "#Importação de tabela\n",
        "dizzle = pd.read_csv('/content/drive/MyDrive/NBA/Dizzle Dinasty/dizzle_sheets - dizzle_two.csv.csv')"
      ],
      "metadata": {
        "id": "6zZ0LBocn54M"
      },
      "execution_count": null,
      "outputs": []
    },
    {
      "cell_type": "code",
      "source": [
        "#Renomear \"value\" para \"zscore\"\n",
        "dizzle.rename(columns={'Player': 'PLAYER'}, inplace=True)\n",
        "dizzle.rename(columns={'Rank': 'DIZZLE_RANK'}, inplace=True)"
      ],
      "metadata": {
        "id": "QBO5uU3noCs6"
      },
      "execution_count": null,
      "outputs": []
    },
    {
      "cell_type": "code",
      "source": [
        "# Selecionar apenas a coluna 'zscore' do dataframe zscores para dar merge com box_pg\n",
        "dizzle_subset = dizzle[['PLAYER', 'DIZZLE_RANK']]"
      ],
      "metadata": {
        "id": "vzVuwEcy8Kf9"
      },
      "execution_count": null,
      "outputs": []
    },
    {
      "cell_type": "code",
      "source": [
        "dizzle_subset.dtypes"
      ],
      "metadata": {
        "colab": {
          "base_uri": "https://localhost:8080/"
        },
        "id": "v5QHKSnB8lBE",
        "outputId": "ac6a556e-ae2a-49c4-bb1e-a849b5704b5a"
      },
      "execution_count": null,
      "outputs": [
        {
          "output_type": "execute_result",
          "data": {
            "text/plain": [
              "PLAYER         object\n",
              "DIZZLE_RANK    object\n",
              "dtype: object"
            ]
          },
          "metadata": {},
          "execution_count": 212
        }
      ]
    },
    {
      "cell_type": "code",
      "source": [
        "#Falhas no join\n",
        "unmatched_box = box_df[~box_df['PLAYER'].isin(dizzle_subset['PLAYER'])]\n",
        "\n",
        "print(\"Unmatched in box:\", unmatched_box)"
      ],
      "metadata": {
        "colab": {
          "base_uri": "https://localhost:8080/"
        },
        "id": "F0h21rqrR_28",
        "outputId": "85b894a3-9e68-4a43-a09f-eb23fd833432"
      },
      "execution_count": null,
      "outputs": [
        {
          "output_type": "stream",
          "name": "stdout",
          "text": [
            "Unmatched in box:     PLAYER_ID  RANK             PLAYER     TEAM_ID TEAM  GP  MIN  FGM  FGA  \\\n",
            "33    1630587   399      Isaiah Livers  1610612765  DET  23  469   40  116   \n",
            "47    1629726   278   Garrison Mathews  1610612737  ATL  66  992  103  226   \n",
            "52     203933   464        T.J. Warren  1610612750  MIN  11  125   18   41   \n",
            "68     202684   367   Tristan Thompson  1610612739  CLE  49  549   73  120   \n",
            "155   1628981   300     Bruno Fernando  1610612737  ATL  45  682  109  187   \n",
            "176    201599   381     DeAndre Jordan  1610612743  DEN  36  396   58   93   \n",
            "177   1629674   371      Neemias Queta  1610612738  BOS  28  333   67  104   \n",
            "195    201988   389        Patty Mills  1610612748  MIA  32  415   46  131   \n",
            "196   1630249   386         Vit Krejci  1610612737  ATL  22  541   51  104   \n",
            "210   1629007   397      Jontay Porter  1610612761  TOR  26  360   40  104   \n",
            "212   1630551   414  Justin Champagnie  1610612764  WAS  15  235   32   78   \n",
            "213   1630610   458      DeJon Jarreau  1610612763  MEM   9  150   17   50   \n",
            "\n",
            "     FG_PCT  ...   PF  PTS  EFF  AST_TOV  STL_TOV         OWNER  Zscore  \\\n",
            "33    0.345  ...   43  114  107     1.56     0.81           luk     NaN   \n",
            "47    0.456  ...  115  325  332     1.95     1.05          esri     NaN   \n",
            "52    0.439  ...   11   41   49     2.25     1.00          esri     NaN   \n",
            "68    0.608  ...   59  161  299     1.76     0.41         pied1     NaN   \n",
            "155   0.583  ...  107  282  420     1.04     0.57      kyletime     NaN   \n",
            "176   0.624  ...   56  142  262     1.13     0.26  duncandunker     NaN   \n",
            "177   0.644  ...   50  154  272     1.54     1.00  duncandunker     NaN   \n",
            "195   0.351  ...   32  127  116     2.13     1.25        hatter     NaN   \n",
            "196   0.490  ...   48  135  182     2.50     0.65        hatter     NaN   \n",
            "210   0.385  ...   35  115  209     2.86     0.95      31savage     NaN   \n",
            "212   0.410  ...   14   89  121     1.90     1.00      31savage     NaN   \n",
            "213   0.340  ...   14   43   73     2.89     0.67      31savage     NaN   \n",
            "\n",
            "     BBM_RANK  FBI_RANK   Age  \n",
            "33        NaN       NaN   NaN  \n",
            "47        NaN     471.0  27.7  \n",
            "52        NaN     543.0  30.9  \n",
            "68        NaN     504.0  33.4  \n",
            "155       NaN     422.0  25.9  \n",
            "176       NaN     561.0  36.0  \n",
            "177       NaN     425.0  25.0  \n",
            "195       NaN     563.0  35.9  \n",
            "196       NaN       NaN   NaN  \n",
            "210       NaN       NaN   NaN  \n",
            "212       NaN       NaN   NaN  \n",
            "213       NaN       NaN   NaN  \n",
            "\n",
            "[12 rows x 33 columns]\n"
          ]
        }
      ]
    },
    {
      "cell_type": "code",
      "source": [
        "# Realizar o merge usando a coluna \"PLAYER\" como chave\n",
        "box_df = pd.merge(box_df, dizzle_subset, on='PLAYER', how='left')"
      ],
      "metadata": {
        "id": "wP7lhB6p86wW"
      },
      "execution_count": null,
      "outputs": []
    },
    {
      "cell_type": "markdown",
      "source": [
        "## Organizando dataset\n"
      ],
      "metadata": {
        "id": "riTGkYqO9YlM"
      }
    },
    {
      "cell_type": "markdown",
      "source": [
        "### Adicionando uma coluna com a média dos rankings"
      ],
      "metadata": {
        "id": "4eHjAu3IAgu3"
      }
    },
    {
      "cell_type": "code",
      "source": [
        "box_df['DIZZLE_RANK'] = box_df['DIZZLE_RANK'].astype(float)"
      ],
      "metadata": {
        "id": "b_dH7sbN9w7t"
      },
      "execution_count": null,
      "outputs": []
    },
    {
      "cell_type": "code",
      "source": [
        "#Adicionando uma nova coluna chamada \"Média de posição\" ou \"average\" ou \"avg_rank\"\n",
        "box_df['avg_rank'] = box_df[['BBM_RANK', 'FBI_RANK', 'DIZZLE_RANK']].mean(axis=1).round(2)"
      ],
      "metadata": {
        "id": "uG6fQzDD9b-V"
      },
      "execution_count": null,
      "outputs": []
    },
    {
      "cell_type": "markdown",
      "source": [
        "### Reorganizando ordem das colunas"
      ],
      "metadata": {
        "id": "TU_aguT6AkVb"
      }
    },
    {
      "cell_type": "code",
      "source": [
        "#Colocando avg_rank após coluna PLAYER\n",
        "cols = list(box_df.columns)\n",
        "cols.insert(3, cols.pop(cols.index('avg_rank')))\n",
        "box_df = box_df[cols]"
      ],
      "metadata": {
        "id": "hV62fzxL-Sod"
      },
      "execution_count": null,
      "outputs": []
    },
    {
      "cell_type": "code",
      "source": [
        "#Colocando OWNER como primeira coluna\n",
        "cols = list(box_df.columns)\n",
        "cols.insert(0, cols.pop(cols.index('OWNER')))\n",
        "box_df = box_df[cols]"
      ],
      "metadata": {
        "id": "3s4KsVC4_02l"
      },
      "execution_count": null,
      "outputs": []
    },
    {
      "cell_type": "code",
      "source": [
        "#Organizando tabela em ordem de time e jogadores com maior ranking\n",
        "box_df = box_df.sort_values(by=['OWNER', 'avg_rank'])"
      ],
      "metadata": {
        "id": "c-oU5xxUEhDF"
      },
      "execution_count": null,
      "outputs": []
    },
    {
      "cell_type": "code",
      "source": [
        "#Criando tabela com os top10 de cada time\n",
        "df_top10 = df_sorted.groupby('OWNER').head(10)"
      ],
      "metadata": {
        "id": "Yd0QcFOcKI_D"
      },
      "execution_count": null,
      "outputs": []
    },
    {
      "cell_type": "code",
      "source": [
        "#Exportar times\n",
        "df_top10.to_csv('/content/drive/MyDrive/NBA/ETL/box_10.csv', index=False)"
      ],
      "metadata": {
        "id": "N19doOh9KpLM"
      },
      "execution_count": null,
      "outputs": []
    },
    {
      "cell_type": "code",
      "source": [
        "#Exportar times\n",
        "box_df.to_csv('/content/drive/MyDrive/NBA/ETL/box_and_one_playoffs.csv', index=False)"
      ],
      "metadata": {
        "id": "WlFWq-7ELDc8"
      },
      "execution_count": null,
      "outputs": []
    },
    {
      "cell_type": "code",
      "source": [],
      "metadata": {
        "id": "0--diU9_qWqS"
      },
      "execution_count": null,
      "outputs": []
    }
  ]
}